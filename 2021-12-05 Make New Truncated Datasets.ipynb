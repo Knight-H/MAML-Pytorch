{
 "cells": [
  {
   "cell_type": "code",
   "execution_count": 15,
   "metadata": {},
   "outputs": [],
   "source": [
    "from knight_utils import TASK_DICT\n",
    "import json, os\n",
    "import numpy as np"
   ]
  },
  {
   "cell_type": "code",
   "execution_count": 19,
   "metadata": {
    "scrolled": true
   },
   "outputs": [
    {
     "name": "stdout",
     "output_type": "stream",
     "text": [
      "Opening /data/lamol_data/ag_to_squad-train-v2.0.json\n",
      "Current raw_ds length: 115000)\n",
      "New raw_ds length: 10000)\n",
      "Opening /data/lamol_data/dbpedia_to_squad-train-v2.0.json\n",
      "Current raw_ds length: 115000)\n",
      "New raw_ds length: 10000)\n",
      "Opening /data/lamol_data/yahoo_to_squad-train-v2.0.json\n",
      "Current raw_ds length: 115000)\n",
      "New raw_ds length: 10000)\n",
      "Opening /data/lamol_data/amazon_to_squad-train-v2.0.json\n",
      "Current raw_ds length: 115000)\n",
      "New raw_ds length: 10000)\n",
      "Opening /data/lamol_data/yelp_to_squad-train-v2.0.json\n",
      "Current raw_ds length: 115000)\n",
      "New raw_ds length: 10000)\n",
      "Opening /data/lamol_data/ag_to_squad-test-v2.0.json\n",
      "Current raw_ds length: 7600)\n",
      "New raw_ds length: 7600)\n",
      "Opening /data/lamol_data/dbpedia_to_squad-test-v2.0.json\n",
      "Current raw_ds length: 7600)\n",
      "New raw_ds length: 7600)\n",
      "Opening /data/lamol_data/yahoo_to_squad-test-v2.0.json\n",
      "Current raw_ds length: 7600)\n",
      "New raw_ds length: 7600)\n",
      "Opening /data/lamol_data/amazon_to_squad-test-v2.0.json\n",
      "Current raw_ds length: 7600)\n",
      "New raw_ds length: 7600)\n",
      "Opening /data/lamol_data/yelp_to_squad-test-v2.0.json\n",
      "Current raw_ds length: 7600)\n",
      "New raw_ds length: 7600)\n",
      "Opening /data/lamol_data/ag_to_squad-test-v2.0.json\n",
      "Current raw_ds length: 7600)\n",
      "New raw_ds length: 7600)\n",
      "Opening /data/lamol_data/dbpedia_to_squad-test-v2.0.json\n",
      "Current raw_ds length: 7600)\n",
      "New raw_ds length: 7600)\n",
      "Opening /data/lamol_data/yahoo_to_squad-test-v2.0.json\n",
      "Current raw_ds length: 7600)\n",
      "New raw_ds length: 7600)\n",
      "Opening /data/lamol_data/amazon_to_squad-test-v2.0.json\n",
      "Current raw_ds length: 7600)\n",
      "New raw_ds length: 7600)\n",
      "Opening /data/lamol_data/yelp_to_squad-test-v2.0.json\n",
      "Current raw_ds length: 7600)\n",
      "New raw_ds length: 7600)\n"
     ]
    }
   ],
   "source": [
    "DATA_DIR = '/data/lamol_data'\n",
    "\n",
    "\n",
    "data_paths = [ \n",
    "    TASK_DICT['ag']['train'],\n",
    "    TASK_DICT['dbpedia']['train'],\n",
    "    TASK_DICT['yahoo']['train'],\n",
    "    TASK_DICT['amazon']['train'],\n",
    "    TASK_DICT['yelp']['train'],\n",
    "    # Eval and test will not have more than 10k already, it will be the same but leave it be with changed name!\n",
    "    TASK_DICT['ag']['eval'],\n",
    "    TASK_DICT['dbpedia']['eval'],\n",
    "    TASK_DICT['yahoo']['eval'],\n",
    "    TASK_DICT['amazon']['eval'],\n",
    "    TASK_DICT['yelp']['eval'],\n",
    "    # Since Test is the same as eval, leave it be.\n",
    "#     TASK_DICT['ag']['test'],\n",
    "#     TASK_DICT['dbpedia']['test'],\n",
    "#     TASK_DICT['yahoo']['test'],\n",
    "#     TASK_DICT['amazon']['test'],\n",
    "#     TASK_DICT['yelp']['test'],\n",
    "]\n",
    "\n",
    "for data_path in data_paths:\n",
    "    print(f\"Opening {data_path}\")\n",
    "    with open(data_path, \"r\") as f:\n",
    "        raw_ds = json.load(f)\n",
    "    print(f\"Current raw_ds length: {len(raw_ds['data'])})\")\n",
    "\n",
    "    # Make new data path appending -10k before .json\n",
    "    filename, file_ext = os.path.splitext(data_path.split('/')[-1])\n",
    "    filename = filename + '-10k'\n",
    "    new_data_path = '/'.join(data_path.split('/')[:-1] + [filename + file_ext])\n",
    "\n",
    "    # Make actual new data\n",
    "    np.random.shuffle(raw_ds['data'])\n",
    "    raw_ds['data'] = raw_ds['data'][:10000]\n",
    "    print(f\"New raw_ds length: {len(raw_ds['data'])})\")\n",
    "\n",
    "    with open(new_data_path, \"w\") as f:\n",
    "        json.dump(raw_ds, f)"
   ]
  }
 ],
 "metadata": {
  "kernelspec": {
   "display_name": "Python 3",
   "language": "python",
   "name": "python3"
  },
  "language_info": {
   "codemirror_mode": {
    "name": "ipython",
    "version": 3
   },
   "file_extension": ".py",
   "mimetype": "text/x-python",
   "name": "python",
   "nbconvert_exporter": "python",
   "pygments_lexer": "ipython3",
   "version": "3.7.4"
  }
 },
 "nbformat": 4,
 "nbformat_minor": 4
}
