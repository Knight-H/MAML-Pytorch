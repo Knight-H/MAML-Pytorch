{
 "cells": [
  {
   "cell_type": "code",
   "execution_count": 4,
   "metadata": {},
   "outputs": [],
   "source": [
    "import pickle\n",
    "import matplotlib.pyplot as plt\n",
    "import numpy as np\n",
    "\n",
    "class ReplayMemory:\n",
    "\n",
    "    def __init__(self, write_prob, tuple_size):\n",
    "        self.buffer = []\n",
    "        self.write_prob = write_prob\n",
    "        self.tuple_size = tuple_size\n",
    "\n",
    "    def write(self, input_tuple):\n",
    "        if random.random() < self.write_prob:\n",
    "            self.buffer.append(input_tuple)\n",
    "\n",
    "    def read(self):\n",
    "        return random.choice(self.buffer)\n",
    "\n",
    "    def write_batch(self, *elements):\n",
    "        element_list = []\n",
    "        for e in elements:\n",
    "            if isinstance(e, torch.Tensor):\n",
    "                element_list.append(e.tolist())\n",
    "            else:\n",
    "                element_list.append(e)\n",
    "        for write_tuple in zip(*element_list):\n",
    "            self.write(write_tuple)\n",
    "\n",
    "    def read_batch(self, batch_size):\n",
    "        contents = [[] for _ in range(self.tuple_size)]\n",
    "        for _ in range(batch_size):\n",
    "            read_tuple = self.read()\n",
    "            for i in range(len(read_tuple)):\n",
    "                contents[i].append(read_tuple[i])\n",
    "        return tuple(contents)\n",
    "\n",
    "    def len(self):\n",
    "        return len(self.buffer)\n",
    "\n",
    "    def reset_memory(self):\n",
    "        self.buffer = []\n"
   ]
  },
  {
   "cell_type": "code",
   "execution_count": 6,
   "metadata": {},
   "outputs": [
    {
     "ename": "ModuleNotFoundError",
     "evalue": "No module named 'models'",
     "output_type": "error",
     "traceback": [
      "\u001b[0;31m---------------------------------------------------------------------------\u001b[0m",
      "\u001b[0;31mModuleNotFoundError\u001b[0m                       Traceback (most recent call last)",
      "\u001b[0;32m<ipython-input-6-13566da37257>\u001b[0m in \u001b[0;36m<module>\u001b[0;34m\u001b[0m\n\u001b[1;32m      3\u001b[0m \u001b[0mFILE_TO_READ\u001b[0m \u001b[0;34m=\u001b[0m \u001b[0;34m\"/data/model_runs/20220529T212429_1_oml2gpt2/yelp_memory.pickle\"\u001b[0m\u001b[0;34m\u001b[0m\u001b[0;34m\u001b[0m\u001b[0m\n\u001b[1;32m      4\u001b[0m \u001b[0;32mwith\u001b[0m \u001b[0mopen\u001b[0m\u001b[0;34m(\u001b[0m\u001b[0mFILE_TO_READ\u001b[0m\u001b[0;34m,\u001b[0m \u001b[0;34m'rb'\u001b[0m\u001b[0;34m)\u001b[0m \u001b[0;32mas\u001b[0m \u001b[0mf\u001b[0m\u001b[0;34m:\u001b[0m\u001b[0;34m\u001b[0m\u001b[0;34m\u001b[0m\u001b[0m\n\u001b[0;32m----> 5\u001b[0;31m     \u001b[0mx\u001b[0m \u001b[0;34m=\u001b[0m \u001b[0mpickle\u001b[0m\u001b[0;34m.\u001b[0m\u001b[0mload\u001b[0m\u001b[0;34m(\u001b[0m\u001b[0mf\u001b[0m\u001b[0;34m)\u001b[0m\u001b[0;34m\u001b[0m\u001b[0;34m\u001b[0m\u001b[0m\n\u001b[0m\u001b[1;32m      6\u001b[0m \u001b[0mx\u001b[0m\u001b[0;34m.\u001b[0m\u001b[0mbuffer\u001b[0m\u001b[0;34m[\u001b[0m\u001b[0;34m:\u001b[0m\u001b[0;36m10\u001b[0m\u001b[0;34m]\u001b[0m\u001b[0;34m\u001b[0m\u001b[0;34m\u001b[0m\u001b[0m\n",
      "\u001b[0;31mModuleNotFoundError\u001b[0m: No module named 'models'"
     ]
    }
   ],
   "source": [
    "# learner = OML2(device='cpu', n_classes=33)\n",
    "\n",
    "FILE_TO_READ = \"/data/model_runs/20220529T212429_1_oml2gpt2/yelp_memory.pickle\"\n",
    "with open(FILE_TO_READ, 'rb') as f:\n",
    "    x = pickle.load(f)\n",
    "x.buffer[:10]"
   ]
  },
  {
   "cell_type": "code",
   "execution_count": null,
   "metadata": {},
   "outputs": [],
   "source": []
  }
 ],
 "metadata": {
  "kernelspec": {
   "display_name": "Python 3",
   "language": "python",
   "name": "python3"
  },
  "language_info": {
   "codemirror_mode": {
    "name": "ipython",
    "version": 3
   },
   "file_extension": ".py",
   "mimetype": "text/x-python",
   "name": "python",
   "nbconvert_exporter": "python",
   "pygments_lexer": "ipython3",
   "version": "3.7.4"
  }
 },
 "nbformat": 4,
 "nbformat_minor": 4
}
