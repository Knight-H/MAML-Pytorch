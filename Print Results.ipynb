{
 "cells": [
  {
   "cell_type": "code",
   "execution_count": 1,
   "metadata": {},
   "outputs": [],
   "source": [
    "import os, re, json"
   ]
  },
  {
   "cell_type": "code",
   "execution_count": 2,
   "metadata": {},
   "outputs": [],
   "source": [
    "DATA_DIR = \"/data/model_runs/20220102T184856_yelag1dbpamayah_LAMOL_MAML\"\n",
    "DATA_DIR = \"/data/model_runs/20220103T033213_dbpyahag1amayel_LAMOL_MAML\"\n",
    "DATA_DIR = \"/data/model_runs/20220103T195845_yelyahamadbpag1_LAMOL_MAML\"\n",
    "DATA_DIR = \"/data/model_runs/20211231T135835_ag1yelamayahdbp_LAMOL_MAML\"\n",
    "\n",
    "# For LAMOL\n",
    "DATA_DIR = \"/data/model_runs/20220116T190836_yelag1dbpamayah_LAMOL\"\n",
    "DATA_DIR = \"/data/model_runs/20220118T195023_dbpyahag1amayel_LAMOL\"\n",
    "DATA_DIR = \"/data/model_runs/20220117T001739_yelyahamadbpag1_LAMOL\"\n",
    "DATA_DIR = \"/data/model_runs/20220117T025517_ag1yelamayahdbp_LAMOL\"\n",
    "\n",
    "# FOR v3 LAMOL_MAML\n",
    "DATA_DIR = \"/data/model_runs/20220202T115621_yelag1dbpamayah_LAMOL_MAML\"\n",
    "DATA_DIR = \"/data/model_runs/20220202T164844_dbpyahag1amayel_LAMOL_MAML\"\n",
    "DATA_DIR = \"/data/model_runs/20220202T220649_yelyahamadbpag1_LAMOL_MAML\"\n",
    "DATA_DIR = \"/data/model_runs/20220203T034532_ag1yelamayahdbp_LAMOL_MAML\"\n",
    "\n",
    "# FOR OML-GPT MetaLifelongLearning Orders\n",
    "DATA_DIR = \"/data/model_runs/20220531T053224_1_oml2gpt2\"\n",
    "DATA_DIR = \"/data/model_runs/20220601T132221_2_oml2gpt2\"\n",
    "DATA_DIR = \"/data/model_runs/20220602T193348_3_oml2gpt2\"\n",
    "DATA_DIR = \"/data/model_runs/20220604T073949_4_oml2gpt2\"\n",
    "\n",
    "DATA_DIR = \"/data/model_runs/20220608T165449_1_oml2gpt2\"\n",
    "\n",
    "# 10k OML-gpt\n",
    "# DATA_DIR = \"/data/model_runs/20220529T095601_1_oml2gpt2\"\n",
    "\n",
    "# 2 epoch\n",
    "# DATA_DIR = \"/data/model_runs/20220611T192538_1_oml2gpt2\"\n",
    "\n",
    "# For LAMOL 115k\n",
    "DATA_DIR = \"/data/model_runs/20230606T101615_yelagdbpamayah_LAMOL\"\n",
    "DATA_DIR = \"/data/model_runs/20230607T110925_dbpyahagamayel_LAMOL\"\n",
    "DATA_DIR = \"/data/model_runs/20230608T003614_yelyahamadbpag_LAMOL\"\n",
    "DATA_DIR = \"/data/model_runs/20230608T140603_agyelamayahdbp_LAMOL\""
   ]
  },
  {
   "cell_type": "code",
   "execution_count": 3,
   "metadata": {},
   "outputs": [
    {
     "name": "stdout",
     "output_type": "stream",
     "text": [
      "tasks_list: ['ag', 'yel', 'ama', 'yah', 'dbp']\n",
      "['metrics-ag.json', 'metrics-yelp.json', 'metrics-amazon.json', 'metrics-yahoo.json', 'metrics-dbpedia.json']\n",
      "['ag', 'yelp', 'amazon', 'yahoo', 'dbpedia']\n"
     ]
    }
   ],
   "source": [
    "isOML= False\n",
    "DATA_MAP = {\n",
    "    0: 'ag',\n",
    "    1: 'amazon',\n",
    "    2: 'yelp',\n",
    "    3: 'dbpedia',\n",
    "    4: 'yahoo'\n",
    "}\n",
    "DATA_VAL = [x[:3] for x in DATA_MAP.values()]\n",
    "dataset_order_mapping = {\n",
    "    1: [2, 0, 3, 1, 4],\n",
    "    2: [3, 4, 0, 1, 2],\n",
    "    3: [2, 4, 1, 3, 0],\n",
    "    4: [0, 2, 1, 4, 3]\n",
    "}\n",
    "\n",
    "def split_similar(s):\n",
    "    for dd in DATA_VAL:\n",
    "        if re.match(f\"^{dd}.*\", s):\n",
    "            return [dd] + split_similar(s[len(dd):])\n",
    "    return []\n",
    "\n",
    "if not isOML:\n",
    "    tasks_string = DATA_DIR.split('/')[-1].split('_')[1]\n",
    "    #tasks_list = [tasks_string[i*3: i*3+3] for i in range(len(tasks_string)//3)]\n",
    "    tasks_list = split_similar(tasks_string)\n",
    "else:\n",
    "    order = int(DATA_DIR.split('/')[-1].split('_')[1])\n",
    "    tasks_list = [DATA_MAP[i] for i in dataset_order_mapping[order]]\n",
    "print(f\"tasks_list: {tasks_list}\")\n",
    "file_list = [next(filename  for filename in os.listdir(DATA_DIR) if re.match(f\"^metrics-{task}\", filename)) for task in tasks_list]\n",
    "tasks_full_list = [os.path.splitext(filename)[0].split(\"-\")[1] for filename in file_list]\n",
    "print(file_list)\n",
    "print(tasks_full_list)"
   ]
  },
  {
   "cell_type": "code",
   "execution_count": 4,
   "metadata": {},
   "outputs": [
    {
     "data": {
      "text/plain": [
       "{'ag': {'em': 93.3157894736842,\n",
       "  'nf1': 93.3157894736842,\n",
       "  'nem': 93.3157894736842},\n",
       " 'yelp': {'em': 0.0, 'nf1': 0.008771929824561403, 'nem': 0.0},\n",
       " 'amazon': {'em': 0.0, 'nf1': 0.006578947368421052, 'nem': 0.0},\n",
       " 'yahoo': {'em': 3.697368421052632,\n",
       "  'nf1': 4.66008771929825,\n",
       "  'nem': 3.697368421052632},\n",
       " 'dbpedia': {'em': 0.0, 'nf1': 0.0, 'nem': 0.0}}"
      ]
     },
     "execution_count": 4,
     "metadata": {},
     "output_type": "execute_result"
    }
   ],
   "source": [
    "results = []\n",
    "for filename in file_list:\n",
    "    with open(os.path.join(DATA_DIR, filename), 'r') as f:\n",
    "        results.append(json.load(f))\n",
    "results[0]"
   ]
  },
  {
   "cell_type": "code",
   "execution_count": 5,
   "metadata": {},
   "outputs": [
    {
     "name": "stdout",
     "output_type": "stream",
     "text": [
      "ag\tyelp\tamazon\tyahoo\tdbpedia\t\n",
      "0.9331578947368421\t0.0\t0.0\t0.03697368421052632\t0.0\t\n",
      "0.9228947368421052\t0.6017105263157895\t0.5176315789473684\t0.041973684210526316\t0.0022368421052631577\t\n",
      "0.9261842105263159\t0.5826315789473684\t0.5553947368421053\t0.025657894736842105\t0.0013157894736842105\t\n",
      "0.8956578947368421\t0.5828947368421052\t0.5402631578947369\t0.6915789473684211\t0.0009210526315789473\t\n",
      "0.9094736842105263\t0.583421052631579\t0.5511842105263158\t0.6931578947368421\t0.99\t\n"
     ]
    }
   ],
   "source": [
    "for task in tasks_full_list:\n",
    "    print(task, end=\"\\t\")\n",
    "print()\n",
    "for result in results:\n",
    "    for task in tasks_full_list:\n",
    "        acc = result[task]['em']\n",
    "        print(acc/100, end=\"\\t\")\n",
    "\n",
    "    print()"
   ]
  },
  {
   "cell_type": "code",
   "execution_count": null,
   "metadata": {},
   "outputs": [],
   "source": []
  }
 ],
 "metadata": {
  "kernelspec": {
   "display_name": "Python 3 (ipykernel)",
   "language": "python",
   "name": "python3"
  },
  "language_info": {
   "codemirror_mode": {
    "name": "ipython",
    "version": 3
   },
   "file_extension": ".py",
   "mimetype": "text/x-python",
   "name": "python",
   "nbconvert_exporter": "python",
   "pygments_lexer": "ipython3",
   "version": "3.8.16"
  }
 },
 "nbformat": 4,
 "nbformat_minor": 4
}
