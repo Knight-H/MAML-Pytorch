{
 "cells": [
  {
   "cell_type": "code",
   "execution_count": 2,
   "metadata": {},
   "outputs": [],
   "source": [
    "import random"
   ]
  },
  {
   "cell_type": "code",
   "execution_count": 3,
   "metadata": {},
   "outputs": [],
   "source": [
    "class ReplayMemory:\n",
    "\n",
    "    def __init__(self, write_prob, tuple_size):\n",
    "        self.buffer = []\n",
    "        self.write_prob = write_prob\n",
    "        self.tuple_size = tuple_size\n",
    "\n",
    "    def write(self, input_tuple):\n",
    "        if random.random() < self.write_prob:\n",
    "            self.buffer.append(input_tuple)\n",
    "\n",
    "    def read(self):\n",
    "        return random.choice(self.buffer)\n",
    "\n",
    "    def write_batch(self, *elements):\n",
    "        element_list = []\n",
    "        for e in elements:\n",
    "            if isinstance(e, torch.Tensor):\n",
    "                element_list.append(e.tolist())\n",
    "            else:\n",
    "                element_list.append(e)\n",
    "        for write_tuple in zip(*element_list):\n",
    "            self.write(write_tuple)\n",
    "\n",
    "    def read_batch(self, batch_size):\n",
    "        contents = [[] for _ in range(self.tuple_size)]\n",
    "        for _ in range(batch_size):\n",
    "            read_tuple = self.read()\n",
    "            for i in range(len(read_tuple)):\n",
    "                contents[i].append(read_tuple[i])\n",
    "        return tuple(contents)\n",
    "\n",
    "    def len(self):\n",
    "        return len(self.buffer)\n",
    "\n",
    "    def reset_memory(self):\n",
    "        self.buffer = []"
   ]
  },
  {
   "cell_type": "code",
   "execution_count": 42,
   "metadata": {},
   "outputs": [],
   "source": [
    "memory = ReplayMemory(write_prob = 1.0, tuple_size=4)"
   ]
  },
  {
   "cell_type": "code",
   "execution_count": 44,
   "metadata": {},
   "outputs": [],
   "source": [
    "memory.write([1,2,3,4])\n",
    "memory.write([2,2,3,4])\n",
    "memory.write([3,2,3,4])\n",
    "memory.write([6,2,3,4])\n",
    "memory.write([7,2,3,4])"
   ]
  },
  {
   "cell_type": "code",
   "execution_count": 45,
   "metadata": {},
   "outputs": [
    {
     "data": {
      "text/plain": [
       "[2, 2, 3, 4]"
      ]
     },
     "execution_count": 45,
     "metadata": {},
     "output_type": "execute_result"
    }
   ],
   "source": [
    "memory.read()"
   ]
  },
  {
   "cell_type": "code",
   "execution_count": 48,
   "metadata": {},
   "outputs": [
    {
     "data": {
      "text/plain": [
       "([6, 7], [2, 2], [3, 3], [4, 4])"
      ]
     },
     "execution_count": 48,
     "metadata": {},
     "output_type": "execute_result"
    }
   ],
   "source": [
    "memory.read_batch(2)"
   ]
  }
 ],
 "metadata": {
  "kernelspec": {
   "display_name": "Python 3",
   "language": "python",
   "name": "python3"
  },
  "language_info": {
   "codemirror_mode": {
    "name": "ipython",
    "version": 3
   },
   "file_extension": ".py",
   "mimetype": "text/x-python",
   "name": "python",
   "nbconvert_exporter": "python",
   "pygments_lexer": "ipython3",
   "version": "3.7.4"
  }
 },
 "nbformat": 4,
 "nbformat_minor": 4
}
